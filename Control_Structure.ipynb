{
  "nbformat": 4,
  "nbformat_minor": 0,
  "metadata": {
    "colab": {
      "name": "Control Structure.ipynb",
      "provenance": [],
      "authorship_tag": "ABX9TyNUPzsPrUyjPKwi8mF5/i6l",
      "include_colab_link": true
    },
    "kernelspec": {
      "name": "python3",
      "display_name": "Python 3"
    },
    "language_info": {
      "name": "python"
    }
  },
  "cells": [
    {
      "cell_type": "markdown",
      "metadata": {
        "id": "view-in-github",
        "colab_type": "text"
      },
      "source": [
        "<a href=\"https://colab.research.google.com/github/ChristianMones/CPEN-21A-CPE-1-2/blob/main/Control_Structure.ipynb\" target=\"_parent\"><img src=\"https://colab.research.google.com/assets/colab-badge.svg\" alt=\"Open In Colab\"/></a>"
      ]
    },
    {
      "cell_type": "markdown",
      "metadata": {
        "id": "30LEmNWHH2wV"
      },
      "source": [
        "##If Statement"
      ]
    },
    {
      "cell_type": "code",
      "metadata": {
        "colab": {
          "base_uri": "https://localhost:8080/"
        },
        "id": "U9W98A9mGxt0",
        "outputId": "5a9ce11c-7240-4746-b935-8ac3d7efbdad"
      },
      "source": [
        "a=12\n",
        "b=100\n",
        "\n",
        "if b>a:\n",
        "  print(\"b is greater than a.\")"
      ],
      "execution_count": 1,
      "outputs": [
        {
          "output_type": "stream",
          "name": "stdout",
          "text": [
            "b is greater than a.\n"
          ]
        }
      ]
    },
    {
      "cell_type": "markdown",
      "metadata": {
        "id": "MXMqJVjnISR5"
      },
      "source": [
        "##Elif Statement"
      ]
    },
    {
      "cell_type": "code",
      "metadata": {
        "colab": {
          "base_uri": "https://localhost:8080/"
        },
        "id": "DlP4EpiVIVqK",
        "outputId": "8386e399-5aae-4595-83a7-3e5571ef9a6f"
      },
      "source": [
        "a=100\n",
        "b=12\n",
        "\n",
        "if b>a:\n",
        "  print(\"b is greater than a\")\n",
        "elif a>b:\n",
        "  print(\"a is greater than b\")"
      ],
      "execution_count": 3,
      "outputs": [
        {
          "output_type": "stream",
          "name": "stdout",
          "text": [
            "a is greater than b\n"
          ]
        }
      ]
    },
    {
      "cell_type": "markdown",
      "metadata": {
        "id": "kZrzPKYSIwsy"
      },
      "source": [
        "##Else Statement"
      ]
    },
    {
      "cell_type": "code",
      "metadata": {
        "colab": {
          "base_uri": "https://localhost:8080/"
        },
        "id": "e_UJE9SdIzW1",
        "outputId": "a1f3b314-a329-46b6-ed20-a2b324e77c37"
      },
      "source": [
        "a=100\n",
        "b=100\n",
        "\n",
        "if b>a:\n",
        "  print(\"b is greater than a\")\n",
        "elif a>b:\n",
        "  print(\"a is greater than b\")\n",
        "else:\n",
        "  print(\"a is equal to b\")"
      ],
      "execution_count": 5,
      "outputs": [
        {
          "output_type": "stream",
          "name": "stdout",
          "text": [
            "a is equal to b\n"
          ]
        }
      ]
    },
    {
      "cell_type": "markdown",
      "metadata": {
        "id": "IKHO33BfJqKl"
      },
      "source": [
        "##Short Hand If Statement"
      ]
    },
    {
      "cell_type": "code",
      "metadata": {
        "colab": {
          "base_uri": "https://localhost:8080/"
        },
        "id": "ktq8_12nJvRV",
        "outputId": "83040c8b-9b4b-4f7b-a51d-233afaf43111"
      },
      "source": [
        "a=29\n",
        "b=21\n",
        "\n",
        "if a>b: print(\"a is greater than b\")"
      ],
      "execution_count": 11,
      "outputs": [
        {
          "output_type": "stream",
          "name": "stdout",
          "text": [
            "a is greater than b\n"
          ]
        }
      ]
    },
    {
      "cell_type": "markdown",
      "metadata": {
        "id": "P1RGFXPXKA9M"
      },
      "source": [
        "##Short Hand Else Statement"
      ]
    },
    {
      "cell_type": "code",
      "metadata": {
        "colab": {
          "base_uri": "https://localhost:8080/"
        },
        "id": "fotqnWCNJ_48",
        "outputId": "22a34b13-f165-4cc9-9be9-183299adf737"
      },
      "source": [
        "a=50\n",
        "b=59\n",
        "\n",
        "print(\"a is greater than b\") if a>b else print(\"b is greater than a\")"
      ],
      "execution_count": 12,
      "outputs": [
        {
          "output_type": "stream",
          "name": "stdout",
          "text": [
            "b is greater than a\n"
          ]
        }
      ]
    },
    {
      "cell_type": "markdown",
      "metadata": {
        "id": "XiCP4XRcK-71"
      },
      "source": [
        "##And logic condition"
      ]
    },
    {
      "cell_type": "code",
      "metadata": {
        "colab": {
          "base_uri": "https://localhost:8080/"
        },
        "id": "2mN_S1ogK_sV",
        "outputId": "ee634c5b-0d0a-4660-e696-d4fe64e23c81"
      },
      "source": [
        "x=7\n",
        "\n",
        "if x>5 and x>6:\n",
        "  print(\"Both conditions are true\")"
      ],
      "execution_count": 13,
      "outputs": [
        {
          "output_type": "stream",
          "name": "stdout",
          "text": [
            "Both conditions are true\n"
          ]
        }
      ]
    },
    {
      "cell_type": "markdown",
      "metadata": {
        "id": "QOTdbxAhLY8N"
      },
      "source": [
        "##Or logic condition"
      ]
    },
    {
      "cell_type": "code",
      "metadata": {
        "colab": {
          "base_uri": "https://localhost:8080/"
        },
        "id": "64JbYLyaLbRV",
        "outputId": "ff192cb6-c640-492e-deed-3038633024bf"
      },
      "source": [
        "x=21\n",
        "\n",
        "if x>18 or x<15:\n",
        "  print(\"True\")\n",
        "else:\n",
        "  print(\"False\")"
      ],
      "execution_count": 29,
      "outputs": [
        {
          "output_type": "stream",
          "name": "stdout",
          "text": [
            "True\n"
          ]
        }
      ]
    },
    {
      "cell_type": "code",
      "metadata": {
        "colab": {
          "base_uri": "https://localhost:8080/"
        },
        "id": "c_5R8taGMBsd",
        "outputId": "042732e4-6f4c-4364-fa52-d2cbd589f2b7"
      },
      "source": [
        "x=21\n",
        "if x>10:\n",
        "  print(\"Above 10\")\n",
        "  if x>20:\n",
        "    print(\"Above 20\")\n",
        "  else:\n",
        "    print(\"Below 20\")"
      ],
      "execution_count": 28,
      "outputs": [
        {
          "output_type": "stream",
          "name": "stdout",
          "text": [
            "Above 10\n",
            "Above 20\n"
          ]
        }
      ]
    },
    {
      "cell_type": "markdown",
      "metadata": {
        "id": "CBXou_KTM569"
      },
      "source": [
        "Example 1"
      ]
    },
    {
      "cell_type": "code",
      "metadata": {
        "colab": {
          "base_uri": "https://localhost:8080/"
        },
        "id": "7oceRLMpM6Ut",
        "outputId": "d5fedb86-c12e-43fe-dac5-599e666f0245"
      },
      "source": [
        "age=int(input(\"Enter ur age:\"))\n",
        "\n",
        "if age>=18:\n",
        "  print(\"You are qualified to vote.\")\n",
        "else:\n",
        "  print(\"You are not qualified to vote.\")"
      ],
      "execution_count": 37,
      "outputs": [
        {
          "output_type": "stream",
          "name": "stdout",
          "text": [
            "Enter ur age:18\n",
            "You are qualified to vote.\n"
          ]
        }
      ]
    },
    {
      "cell_type": "markdown",
      "metadata": {
        "id": "jYLHMvhWNjIN"
      },
      "source": [
        "Example 2"
      ]
    },
    {
      "cell_type": "code",
      "metadata": {
        "colab": {
          "base_uri": "https://localhost:8080/"
        },
        "id": "tmu3rpKtNkXV",
        "outputId": "4ecd4e5d-c767-44f8-9c14-e87d514cf72e"
      },
      "source": [
        "number=float(input(\"Enter a number:\"))\n",
        "if number>0: print(\"Positive\")\n",
        "elif number<0: print(\"Negative\")\n",
        "else: print(\"Zero\")"
      ],
      "execution_count": 48,
      "outputs": [
        {
          "output_type": "stream",
          "name": "stdout",
          "text": [
            "Enter a number:0\n",
            "Zero\n"
          ]
        }
      ]
    }
  ]
}