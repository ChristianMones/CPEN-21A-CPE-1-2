{
  "nbformat": 4,
  "nbformat_minor": 0,
  "metadata": {
    "colab": {
      "name": "Lab1.ipynb",
      "provenance": [],
      "authorship_tag": "ABX9TyNl+lEWc3vZZCYmoeOgEexC",
      "include_colab_link": true
    },
    "kernelspec": {
      "name": "python3",
      "display_name": "Python 3"
    },
    "language_info": {
      "name": "python"
    }
  },
  "cells": [
    {
      "cell_type": "markdown",
      "metadata": {
        "id": "view-in-github",
        "colab_type": "text"
      },
      "source": [
        "<a href=\"https://colab.research.google.com/github/ChristianMones/CPEN-21A-CPE-1-2/blob/main/Lab1.ipynb\" target=\"_parent\"><img src=\"https://colab.research.google.com/assets/colab-badge.svg\" alt=\"Open In Colab\"/></a>"
      ]
    },
    {
      "cell_type": "markdown",
      "metadata": {
        "id": "jw27p_wP1xjZ"
      },
      "source": [
        "#Laboratory 1"
      ]
    },
    {
      "cell_type": "code",
      "metadata": {
        "colab": {
          "base_uri": "https://localhost:8080/"
        },
        "id": "LJRx310s1EKz",
        "outputId": "b404ae1f-89c4-4c36-8741-96191fa2988c"
      },
      "source": [
        "print(\"Welcome to Python Programming\")"
      ],
      "execution_count": null,
      "outputs": [
        {
          "output_type": "stream",
          "name": "stdout",
          "text": [
            "Welcome to Python Programming\n"
          ]
        }
      ]
    },
    {
      "cell_type": "code",
      "metadata": {
        "colab": {
          "base_uri": "https://localhost:8080/"
        },
        "id": "h8rhYfDF2nNg",
        "outputId": "d89399ee-bb2c-4166-f62e-9aa9534b06e8"
      },
      "source": [
        "name=\"Christian Angelo A. Mones\"\n",
        "add=\"Sampaguita Village, Trece Martires City, Cavite\"\n",
        "age=\"18\"\n",
        "print(\"Name: \"+name)\n",
        "print(\"Address: \"+add)\n",
        "print(\"Age: \"+age+\" years old\")\n",
        "\n"
      ],
      "execution_count": null,
      "outputs": [
        {
          "output_type": "stream",
          "name": "stdout",
          "text": [
            "Name: Christian Angelo A. Mones\n",
            "Address: Sampaguita Village, Trece Martires City, Cavite\n",
            "Age: 18 years old\n"
          ]
        }
      ]
    }
  ]
}