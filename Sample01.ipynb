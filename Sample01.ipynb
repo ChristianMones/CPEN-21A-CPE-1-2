{
  "nbformat": 4,
  "nbformat_minor": 0,
  "metadata": {
    "colab": {
      "name": "Sample01.ipynb",
      "provenance": [],
      "authorship_tag": "ABX9TyPKAKfgs+wYYqoL74vercZG",
      "include_colab_link": true
    },
    "kernelspec": {
      "name": "python3",
      "display_name": "Python 3"
    },
    "language_info": {
      "name": "python"
    }
  },
  "cells": [
    {
      "cell_type": "markdown",
      "metadata": {
        "id": "view-in-github",
        "colab_type": "text"
      },
      "source": [
        "<a href=\"https://colab.research.google.com/github/ChristianMones/CPEN50/blob/main/Sample01.ipynb\" target=\"_parent\"><img src=\"https://colab.research.google.com/assets/colab-badge.svg\" alt=\"Open In Colab\"/></a>"
      ]
    },
    {
      "cell_type": "markdown",
      "metadata": {
        "id": "abwG9gBXJ7zj"
      },
      "source": [
        "#Sample Codes"
      ]
    },
    {
      "cell_type": "code",
      "metadata": {
        "colab": {
          "base_uri": "https://localhost:8080/"
        },
        "id": "1sMpiZATOLwE",
        "outputId": "33c7e3d7-0184-49f2-dee1-58acaa3174d0"
      },
      "source": [
        "x=\"wall of text\"  #text\n",
        "print(\"This is a \"+x+\".\")"
      ],
      "execution_count": 36,
      "outputs": [
        {
          "output_type": "stream",
          "name": "stdout",
          "text": [
            "This is a wall of text.\n"
          ]
        }
      ]
    },
    {
      "cell_type": "code",
      "metadata": {
        "id": "UTSMalWJF_lo",
        "colab": {
          "base_uri": "https://localhost:8080/"
        },
        "outputId": "3f6aac2c-4782-41b2-e746-cec4473b90ee"
      },
      "source": [
        "x=8\n",
        "y=5\n",
        "print(x,y)"
      ],
      "execution_count": 1,
      "outputs": [
        {
          "output_type": "stream",
          "name": "stdout",
          "text": [
            "8 5\n"
          ]
        }
      ]
    },
    {
      "cell_type": "code",
      "metadata": {
        "colab": {
          "base_uri": "https://localhost:8080/"
        },
        "id": "zV8oQH0XJbBP",
        "outputId": "665836ec-6006-4652-c890-d6f5e9deaff4"
      },
      "source": [
        "a,b,c= str(\"e\"),int(6),float(3)\n",
        "a\n",
        "b\n",
        "c"
      ],
      "execution_count": 8,
      "outputs": [
        {
          "output_type": "execute_result",
          "data": {
            "text/plain": [
              "3.0"
            ]
          },
          "metadata": {},
          "execution_count": 8
        }
      ]
    },
    {
      "cell_type": "code",
      "metadata": {
        "colab": {
          "base_uri": "https://localhost:8080/"
        },
        "id": "9mHQRd92J6ua",
        "outputId": "0c9d7266-bdec-4508-ecdb-9fa3e15db7f9"
      },
      "source": [
        "a,b,c= str(\"e\"),int(6),float(3)\n",
        "print(a)\n",
        "print(b)\n",
        "print(c)"
      ],
      "execution_count": 9,
      "outputs": [
        {
          "output_type": "stream",
          "name": "stdout",
          "text": [
            "e\n",
            "6\n",
            "3.0\n"
          ]
        }
      ]
    },
    {
      "cell_type": "code",
      "metadata": {
        "colab": {
          "base_uri": "https://localhost:8080/"
        },
        "id": "eyVzC9RdMzlg",
        "outputId": "00bf8296-b691-435e-deea-87e413f5a1b8"
      },
      "source": [
        "x=20\n",
        "y=3\n",
        "x%y"
      ],
      "execution_count": 29,
      "outputs": [
        {
          "output_type": "execute_result",
          "data": {
            "text/plain": [
              "2"
            ]
          },
          "metadata": {},
          "execution_count": 29
        }
      ]
    },
    {
      "cell_type": "code",
      "metadata": {
        "colab": {
          "base_uri": "https://localhost:8080/"
        },
        "id": "nkbe_sj6NVad",
        "outputId": "df6681db-7ef4-434f-8a3c-278c25362072"
      },
      "source": [
        "x=5\n",
        "y=3\n",
        "x**y"
      ],
      "execution_count": 30,
      "outputs": [
        {
          "output_type": "execute_result",
          "data": {
            "text/plain": [
              "125"
            ]
          },
          "metadata": {},
          "execution_count": 30
        }
      ]
    },
    {
      "cell_type": "code",
      "metadata": {
        "colab": {
          "base_uri": "https://localhost:8080/"
        },
        "id": "Rkaj81wtPtof",
        "outputId": "4fbbf894-ca54-4df6-9f76-a6d67e943972"
      },
      "source": [
        "x=20\n",
        "y=100\n",
        "x/y"
      ],
      "execution_count": 47,
      "outputs": [
        {
          "output_type": "execute_result",
          "data": {
            "text/plain": [
              "0.2"
            ]
          },
          "metadata": {},
          "execution_count": 47
        }
      ]
    },
    {
      "cell_type": "code",
      "metadata": {
        "colab": {
          "base_uri": "https://localhost:8080/"
        },
        "id": "ejCsqI59NirA",
        "outputId": "e9bbbb7f-f51f-4a1e-c553-cb8254b345cc"
      },
      "source": [
        "x=23\n",
        "y=50\n",
        "x+=30\n",
        "print(x>y)\n",
        "print(x)"
      ],
      "execution_count": 32,
      "outputs": [
        {
          "output_type": "stream",
          "name": "stdout",
          "text": [
            "True\n",
            "53\n"
          ]
        }
      ]
    },
    {
      "cell_type": "code",
      "metadata": {
        "colab": {
          "base_uri": "https://localhost:8080/"
        },
        "id": "nNwoE2BdKkeQ",
        "outputId": "058d3797-5b9f-4e70-8bae-0a2255b8f07a"
      },
      "source": [
        "x=547\n",
        "y=870\n",
        "x==y"
      ],
      "execution_count": 48,
      "outputs": [
        {
          "output_type": "execute_result",
          "data": {
            "text/plain": [
              "False"
            ]
          },
          "metadata": {},
          "execution_count": 48
        }
      ]
    },
    {
      "cell_type": "code",
      "metadata": {
        "colab": {
          "base_uri": "https://localhost:8080/"
        },
        "id": "wWfO1KMPK4Dh",
        "outputId": "ab4e2c59-9fd6-4750-b493-6f79e67597b8"
      },
      "source": [
        "x=4\n",
        "y=9\n",
        "z=x+y\n",
        "a=x*y\n",
        "print(a>z and a!=z)"
      ],
      "execution_count": 49,
      "outputs": [
        {
          "output_type": "stream",
          "name": "stdout",
          "text": [
            "True\n"
          ]
        }
      ]
    },
    {
      "cell_type": "code",
      "metadata": {
        "colab": {
          "base_uri": "https://localhost:8080/"
        },
        "id": "twF1bfZPN-aj",
        "outputId": "c4b7e90a-16e9-44e1-bb6a-ad0cd6e639fc"
      },
      "source": [
        "x=31\n",
        "y=42\n",
        "x is not y"
      ],
      "execution_count": 40,
      "outputs": [
        {
          "output_type": "execute_result",
          "data": {
            "text/plain": [
              "True"
            ]
          },
          "metadata": {},
          "execution_count": 40
        }
      ]
    },
    {
      "cell_type": "code",
      "metadata": {
        "colab": {
          "base_uri": "https://localhost:8080/"
        },
        "id": "vqNn1zIKOfJw",
        "outputId": "106f9505-0093-4a41-b6fd-db8e98a243aa"
      },
      "source": [
        "x=16\n",
        "y=29\n",
        "if(x>y): print(\"x is greater than y.\")\n",
        "if(x<y): print(\"x is less than y.\")"
      ],
      "execution_count": 53,
      "outputs": [
        {
          "output_type": "stream",
          "name": "stdout",
          "text": [
            "x is less than y.\n"
          ]
        }
      ]
    }
  ]
}