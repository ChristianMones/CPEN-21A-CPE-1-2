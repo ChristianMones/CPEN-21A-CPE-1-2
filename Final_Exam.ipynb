{
  "nbformat": 4,
  "nbformat_minor": 0,
  "metadata": {
    "colab": {
      "name": "Final Exam.ipynb",
      "provenance": [],
      "authorship_tag": "ABX9TyOaKS4vcGAige5eZRGlCuDk",
      "include_colab_link": true
    },
    "kernelspec": {
      "name": "python3",
      "display_name": "Python 3"
    },
    "language_info": {
      "name": "python"
    }
  },
  "cells": [
    {
      "cell_type": "markdown",
      "metadata": {
        "id": "view-in-github",
        "colab_type": "text"
      },
      "source": [
        "<a href=\"https://colab.research.google.com/github/ChristianMones/CPEN-21A-CPE-1-2/blob/main/Final_Exam.ipynb\" target=\"_parent\"><img src=\"https://colab.research.google.com/assets/colab-badge.svg\" alt=\"Open In Colab\"/></a>"
      ]
    },
    {
      "cell_type": "markdown",
      "source": [
        "#Final Exam"
      ],
      "metadata": {
        "id": "FNaJ267rEi4t"
      }
    },
    {
      "cell_type": "markdown",
      "source": [
        "##Problem Statement 1"
      ],
      "metadata": {
        "id": "HPhnDA8Swd_E"
      }
    },
    {
      "cell_type": "code",
      "execution_count": 67,
      "metadata": {
        "id": "WASFih_XvYdS",
        "colab": {
          "base_uri": "https://localhost:8080/"
        },
        "outputId": "4896773a-74cf-4e49-a02e-44c7d93dc6c5"
      },
      "outputs": [
        {
          "output_type": "stream",
          "name": "stdout",
          "text": [
            "Enter a number here:4\n",
            "Enter a number here:4\n",
            "Enter a number here:4\n",
            "Enter a number here:4\n",
            "Enter a number here:4\n",
            "Enter a number here:4\n",
            "Enter a number here:4\n",
            "Enter a number here:4\n",
            "Enter a number here:4\n",
            "Enter a number here:4\n",
            "Total:\n",
            "40.0\n"
          ]
        }
      ],
      "source": [
        "sum=0\n",
        "nums=(1,2,3,4,5,6,7,8,9,10)\n",
        "for x in nums:\n",
        "  a=float(input(\"Enter a number here:\"))\n",
        "  if a<5:\n",
        "    sum=sum\n",
        "    sum+=a\n",
        "  else:\n",
        "    print(\"The number you have entered is not less than 5. Please try again.\")\n",
        "    break\n",
        "if x<10:\n",
        "  print()\n",
        "else:\n",
        "  print(\"Total:\")\n",
        "  print(sum)"
      ]
    },
    {
      "cell_type": "markdown",
      "source": [
        "##Problem Statement 2"
      ],
      "metadata": {
        "id": "nmG8kIrvwheU"
      }
    },
    {
      "cell_type": "code",
      "source": [
        "s=0\n",
        "x=0\n",
        "while x<5:\n",
        "  x=x\n",
        "  if x==0:\n",
        "    a=float(input(\"Enter a number:\"))\n",
        "  elif x==4:\n",
        "    b=float(input(\"Enter a number:\"))\n",
        "  else:\n",
        "    no=float(input(\"Enter a number:\"))\n",
        "  x+=1\n",
        "print(a+b)"
      ],
      "metadata": {
        "colab": {
          "base_uri": "https://localhost:8080/"
        },
        "id": "djh9ZTZ-wkGL",
        "outputId": "3b9a8925-0457-435c-ef21-f4066d3a34fb"
      },
      "execution_count": 68,
      "outputs": [
        {
          "output_type": "stream",
          "name": "stdout",
          "text": [
            "Enter a number:42\n",
            "Enter a number:21\n",
            "Enter a number:67\n",
            "Enter a number:32\n",
            "Enter a number:32\n",
            "74.0\n"
          ]
        }
      ]
    },
    {
      "cell_type": "markdown",
      "source": [
        "##Problem Statement 3"
      ],
      "metadata": {
        "id": "R-B_X0EOwkeE"
      }
    },
    {
      "cell_type": "code",
      "source": [
        "grade=int(input(\"Enter your grade here:\"))\n",
        "\n",
        "if grade>=90:\n",
        "  print(\"Your grade: A\")\n",
        "elif 89>=grade>=80:\n",
        "  print(\"Your grade: B\")\n",
        "elif 79>=grade>=70:\n",
        "  print(\"Your grade: C\")\n",
        "elif 69>=grade>=60:\n",
        "  print(\"Your grade: D\")\n",
        "else:\n",
        "  print(\"Your grade: F\")"
      ],
      "metadata": {
        "colab": {
          "base_uri": "https://localhost:8080/"
        },
        "id": "AoYknY8Zwm9E",
        "outputId": "897b6691-9e3f-41be-8014-4a72f4e8b081"
      },
      "execution_count": 69,
      "outputs": [
        {
          "output_type": "stream",
          "name": "stdout",
          "text": [
            "Enter your grade here:85\n",
            "Your grade: B\n"
          ]
        }
      ]
    }
  ]
}