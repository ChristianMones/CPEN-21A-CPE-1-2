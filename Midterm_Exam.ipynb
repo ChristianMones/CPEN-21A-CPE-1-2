{
  "nbformat": 4,
  "nbformat_minor": 0,
  "metadata": {
    "colab": {
      "name": "Midterm Exam.ipynb",
      "provenance": [],
      "authorship_tag": "ABX9TyOnR7uQE21tf/Zf91+Rd7eb",
      "include_colab_link": true
    },
    "kernelspec": {
      "name": "python3",
      "display_name": "Python 3"
    },
    "language_info": {
      "name": "python"
    }
  },
  "cells": [
    {
      "cell_type": "markdown",
      "metadata": {
        "id": "view-in-github",
        "colab_type": "text"
      },
      "source": [
        "<a href=\"https://colab.research.google.com/github/ChristianMones/CPEN-21A-CPE-1-2/blob/main/Midterm_Exam.ipynb\" target=\"_parent\"><img src=\"https://colab.research.google.com/assets/colab-badge.svg\" alt=\"Open In Colab\"/></a>"
      ]
    },
    {
      "cell_type": "markdown",
      "metadata": {
        "id": "85wP-ZkKCLI0"
      },
      "source": [
        "<h1>Midterm Exam</h1>"
      ]
    },
    {
      "cell_type": "markdown",
      "metadata": {
        "id": "-sKQ2tE3CUux"
      },
      "source": [
        "<h2>Problem Statement 1</h2>"
      ]
    },
    {
      "cell_type": "code",
      "metadata": {
        "colab": {
          "base_uri": "https://localhost:8080/"
        },
        "id": "ctiL0etVB9Pz",
        "outputId": "e4b318b6-e516-475e-c74f-fcc63d5d88f0"
      },
      "source": [
        "a='Christian Angelo A. Mones'\n",
        "b='202101510'\n",
        "c='18'\n",
        "d='September 15, 2021'\n",
        "e='Blk. 63 Lt. 16, Sampaguita Village, TMC, Cavite'\n",
        "f='Bachelor of Science in Computer Engineering'\n",
        "g='95'\n",
        "print('Name: ' + a)\n",
        "print('Student Number: ' + b)\n",
        "print('Age: ' + c)\n",
        "print('Birthday: ' + d)\n",
        "print('Address: ' + e)\n",
        "print('Course: ' + f)\n",
        "print('Last Sem GWA: ' + g)"
      ],
      "execution_count": 1,
      "outputs": [
        {
          "output_type": "stream",
          "name": "stdout",
          "text": [
            "Name: Christian Angelo A. Mones\n",
            "Student Number: 202101510\n",
            "Age: 18\n",
            "Birthday: September 15, 2021\n",
            "Address: Blk. 63 Lt. 16, Sampaguita Village, TMC, Cavite\n",
            "Course: Bachelor of Science in Computer Engineering\n",
            "Last Sem GWA: 95\n"
          ]
        }
      ]
    },
    {
      "cell_type": "markdown",
      "metadata": {
        "id": "1EZcmYiKEPYK"
      },
      "source": [
        "<h2>Problem Statement 2</h2>"
      ]
    },
    {
      "cell_type": "code",
      "metadata": {
        "colab": {
          "base_uri": "https://localhost:8080/"
        },
        "id": "yog3SN2nET0S",
        "outputId": "e037be16-e9ee-4c0e-be3c-39239d39aa96"
      },
      "source": [
        "n=4\n",
        "answ=\"Y\"\n",
        "print((2<n) and (n<6))                       #a\n",
        "print((2<n) or (n==6))                       #b\n",
        "print(not(2<n) or (n==6))                    #c\n",
        "print(not(n<6))                              #d\n",
        "print((answ==\"Y\") or (answ==\"y\"))            #e\n",
        "print((answ==\"Y\") and (answ==\"y\"))           #f\n",
        "print(not(answ==\"y\"))                        #g\n",
        "print(((2<n) and (n==5+1)) or (answ==\"No\"))  #h\n",
        "print(((n==2) and (n==7)) or (answ==\"Y\"))    #i\n",
        "print((n==2) and ((n==7) or (answ==\"Y\")))    #j"
      ],
      "execution_count": 32,
      "outputs": [
        {
          "output_type": "stream",
          "name": "stdout",
          "text": [
            "True\n",
            "True\n",
            "False\n",
            "False\n",
            "True\n",
            "False\n",
            "True\n",
            "False\n",
            "True\n",
            "False\n"
          ]
        }
      ]
    },
    {
      "cell_type": "markdown",
      "metadata": {
        "id": "Ps3tVpAbHhjx"
      },
      "source": [
        "<h2>Problem Statement 3</h2>"
      ]
    },
    {
      "cell_type": "code",
      "metadata": {
        "colab": {
          "base_uri": "https://localhost:8080/"
        },
        "id": "YiAdjY6WHhLh",
        "outputId": "b509e595-a4eb-4107-b0c8-a10a4867634a"
      },
      "source": [
        "x,y,w,z=2,-3,7,-10\n",
        "a=x/y\n",
        "b=w/y/x\n",
        "c=z/y%x\n",
        "d=x%-y*w\n",
        "e=x%y\n",
        "f=z%w-y/x*5+5\n",
        "g=9-x%(2+y)\n",
        "h=z//w\n",
        "i=(2+y)**2\n",
        "j=w/x*2\n",
        "print(a)\n",
        "print(b)\n",
        "print(c)\n",
        "print(d)\n",
        "print(e)\n",
        "print(f)\n",
        "print(g)\n",
        "print(h)\n",
        "print(i)\n",
        "print(j)"
      ],
      "execution_count": 34,
      "outputs": [
        {
          "output_type": "stream",
          "name": "stdout",
          "text": [
            "-0.6666666666666666\n",
            "-1.1666666666666667\n",
            "1.3333333333333335\n",
            "14\n",
            "-1\n",
            "16.5\n",
            "9\n",
            "-2\n",
            "1\n",
            "7.0\n"
          ]
        }
      ]
    }
  ]
}