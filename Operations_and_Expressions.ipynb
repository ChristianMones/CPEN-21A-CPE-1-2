{
  "nbformat": 4,
  "nbformat_minor": 0,
  "metadata": {
    "colab": {
      "name": "Operations and Expressions.ipynb",
      "provenance": [],
      "authorship_tag": "ABX9TyOwgKYBYkJ3zwrrCoIKUpBO",
      "include_colab_link": true
    },
    "kernelspec": {
      "name": "python3",
      "display_name": "Python 3"
    },
    "language_info": {
      "name": "python"
    }
  },
  "cells": [
    {
      "cell_type": "markdown",
      "metadata": {
        "id": "view-in-github",
        "colab_type": "text"
      },
      "source": [
        "<a href=\"https://colab.research.google.com/github/ChristianMones/CPEN-21A-CPE-1-2/blob/main/Operations_and_Expressions.ipynb\" target=\"_parent\"><img src=\"https://colab.research.google.com/assets/colab-badge.svg\" alt=\"Open In Colab\"/></a>"
      ]
    },
    {
      "cell_type": "markdown",
      "metadata": {
        "id": "zbySPFt-BWZo"
      },
      "source": [
        "<h1>Operations and Expresions"
      ]
    },
    {
      "cell_type": "code",
      "metadata": {
        "colab": {
          "base_uri": "https://localhost:8080/"
        },
        "id": "uVvT-eW3z0G0",
        "outputId": "7e75e09d-4db0-4f19-c63d-eca322a6de3b"
      },
      "source": [
        "print(86==67)\n",
        "print(10<9)\n",
        "86==67\n",
        "10<9"
      ],
      "execution_count": 36,
      "outputs": [
        {
          "output_type": "stream",
          "name": "stdout",
          "text": [
            "False\n",
            "False\n"
          ]
        },
        {
          "output_type": "execute_result",
          "data": {
            "text/plain": [
              "False"
            ]
          },
          "metadata": {},
          "execution_count": 36
        }
      ]
    },
    {
      "cell_type": "code",
      "metadata": {
        "colab": {
          "base_uri": "https://localhost:8080/"
        },
        "id": "hUVXNUIO1aQW",
        "outputId": "c5cc1c6b-8c2f-429d-c22b-d8c5f412a597"
      },
      "source": [
        "a=532\n",
        "b=564\n",
        "print(a==b)\n",
        "print(a>b)\n",
        "print(a<b)"
      ],
      "execution_count": 16,
      "outputs": [
        {
          "output_type": "stream",
          "name": "stdout",
          "text": [
            "False\n",
            "False\n",
            "True\n"
          ]
        }
      ]
    },
    {
      "cell_type": "code",
      "metadata": {
        "colab": {
          "base_uri": "https://localhost:8080/"
        },
        "id": "b8atiGld1ubW",
        "outputId": "3592ea0d-dc93-44ba-adf4-80f25dc3bb0a"
      },
      "source": [
        "print(bool(52))\n",
        "print(bool(\"anything\"))\n",
        "print(bool(False))\n",
        "print(bool(0))\n",
        "print(bool({}))\n",
        "print(bool(None))"
      ],
      "execution_count": 23,
      "outputs": [
        {
          "output_type": "stream",
          "name": "stdout",
          "text": [
            "True\n",
            "True\n",
            "False\n",
            "False\n",
            "False\n",
            "False\n"
          ]
        }
      ]
    },
    {
      "cell_type": "code",
      "metadata": {
        "colab": {
          "base_uri": "https://localhost:8080/"
        },
        "id": "_eNontNu2m6m",
        "outputId": "358456ef-1308-45ad-c20a-bddf5819f4dd"
      },
      "source": [
        "def yes(): return True\n",
        "print(yes())\n",
        "\n",
        "if yes():\n",
        "  print(\"aye\")\n",
        "else:\n",
        "  print(\"nah\")"
      ],
      "execution_count": 34,
      "outputs": [
        {
          "output_type": "stream",
          "name": "stdout",
          "text": [
            "True\n",
            "aye\n"
          ]
        }
      ]
    },
    {
      "cell_type": "code",
      "metadata": {
        "colab": {
          "base_uri": "https://localhost:8080/"
        },
        "id": "SztN7C5e4No6",
        "outputId": "d81fdf87-1b77-47e5-aa52-b198f6c31800"
      },
      "source": [
        "a=6\n",
        "b=7\n",
        "print(a==b)\n",
        "print(a!=a)"
      ],
      "execution_count": 35,
      "outputs": [
        {
          "output_type": "stream",
          "name": "stdout",
          "text": [
            "False\n",
            "False\n"
          ]
        }
      ]
    },
    {
      "cell_type": "code",
      "metadata": {
        "colab": {
          "base_uri": "https://localhost:8080/"
        },
        "id": "0wud4P1D4s-l",
        "outputId": "130aefad-855d-4db6-824b-fa9819e3dbd6"
      },
      "source": [
        "print(10+5)\n",
        "print(10-5)\n",
        "print(10*5)\n",
        "print(10/5)  #division\n",
        "print(10%5)  #modulo division(remainder)\n",
        "print(10//5) #floor division(whole no.)"
      ],
      "execution_count": 44,
      "outputs": [
        {
          "output_type": "stream",
          "name": "stdout",
          "text": [
            "15\n",
            "5\n",
            "50\n",
            "2.0\n",
            "0\n",
            "2\n"
          ]
        }
      ]
    },
    {
      "cell_type": "code",
      "metadata": {
        "colab": {
          "base_uri": "https://localhost:8080/"
        },
        "id": "yO1VVGAm59oH",
        "outputId": "bf04224a-76d3-48df-eb4e-670eda1569e0"
      },
      "source": [
        "a=60           #111100\n",
        "b=13           #001101\n",
        "print(a|b)\n",
        "print(a&b)"
      ],
      "execution_count": 67,
      "outputs": [
        {
          "output_type": "stream",
          "name": "stdout",
          "text": [
            "61\n",
            "12\n"
          ]
        }
      ]
    },
    {
      "cell_type": "code",
      "metadata": {
        "colab": {
          "base_uri": "https://localhost:8080/"
        },
        "id": "1LzolTlc-tjq",
        "outputId": "6e907c0c-b342-4735-af40-5a1879e75e5b"
      },
      "source": [
        "x=1\n",
        "x+=14\n",
        "print(x)"
      ],
      "execution_count": 65,
      "outputs": [
        {
          "output_type": "stream",
          "name": "stdout",
          "text": [
            "15\n"
          ]
        }
      ]
    },
    {
      "cell_type": "code",
      "metadata": {
        "colab": {
          "base_uri": "https://localhost:8080/"
        },
        "id": "BSVLG0PwAdS3",
        "outputId": "c08ffe14-3423-41d1-8ef9-babf8661292d"
      },
      "source": [
        "a=534\n",
        "b=341\n",
        "print(a is b)\n",
        "print(a is not b)"
      ],
      "execution_count": 66,
      "outputs": [
        {
          "output_type": "stream",
          "name": "stdout",
          "text": [
            "False\n",
            "True\n"
          ]
        }
      ]
    }
  ]
}